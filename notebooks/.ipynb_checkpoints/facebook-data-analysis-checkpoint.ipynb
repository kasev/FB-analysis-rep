{
 "cells": [
  {
   "cell_type": "code",
   "execution_count": 2,
   "metadata": {},
   "outputs": [],
   "source": [
    "### Prerequisties\n",
    "\n",
    "import requests\n",
    "import time\n",
    "import pickle\n",
    "import random\n",
    "token = \"EAACEdEose0cBAHEvYOipHr1ZCYZBvqHYu0rp1Du1YTb7TG6LoLchYZAFoEwoS0MZBmb8XHMT9GZAUcy2voQ9zPlCXyt1PYy5EcgLlGN0BJVQSbPVwp4gexOiPz4ZBV5CbI8RKSOV1Da6Y98jd8azKVZCnYP6N3R8XkYI80pd28JZBTCV58hYZAD8BhT7fjCX2l3cZD\"\n"
   ]
  },
  {
   "cell_type": "code",
   "execution_count": 12,
   "metadata": {},
   "outputs": [],
   "source": [
    "def req_facebook(req):\n",
    "    r = requests.get(\"https://graph.facebook.com/v2.12/\" + req , {\"access_token\" : token})\n",
    "    return r\n",
    "\n"
   ]
  },
  {
   "cell_type": "code",
   "execution_count": 13,
   "metadata": {},
   "outputs": [],
   "source": [
    "r = req_facebook(\"PavelFischerOfficial/feed?fields=message,likes.summary(true),shares.summary(true)\")\n"
   ]
  },
  {
   "cell_type": "code",
   "execution_count": 16,
   "metadata": {},
   "outputs": [],
   "source": [
    "PF2018_Fb = r.json()"
   ]
  },
  {
   "cell_type": "markdown",
   "metadata": {},
   "source": [
    "data=[]\n",
    "\n",
    "results=results[\"posts\"]\n",
    "i=0"
   ]
  },
  {
   "cell_type": "code",
   "execution_count": null,
   "metadata": {},
   "outputs": [],
   "source": []
  }
 ],
 "metadata": {
  "kernelspec": {
   "display_name": "Python 3",
   "language": "python",
   "name": "python3"
  },
  "language_info": {
   "codemirror_mode": {
    "name": "ipython",
    "version": 3
   },
   "file_extension": ".py",
   "mimetype": "text/x-python",
   "name": "python",
   "nbconvert_exporter": "python",
   "pygments_lexer": "ipython3",
   "version": "3.6.4"
  }
 },
 "nbformat": 4,
 "nbformat_minor": 2
}
